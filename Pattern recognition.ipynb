{
 "cells": [
  {
   "cell_type": "markdown",
   "id": "8530ccef",
   "metadata": {},
   "source": [
    "## Pattern recognition - 3 class "
   ]
  },
  {
   "cell_type": "markdown",
   "id": "5b1d7e0e",
   "metadata": {},
   "source": [
    "## Data Prep"
   ]
  },
  {
   "cell_type": "code",
   "execution_count": 33,
   "id": "873c081c",
   "metadata": {},
   "outputs": [],
   "source": [
    "import numpy as np\n",
    "import os\n",
    "from matplotlib import pyplot as plt\n",
    "import cv2\n",
    "import random\n",
    "import pickle\n",
    "\n",
    "from glob import glob\n",
    "from keras.models import Sequential\n",
    "from tensorflow.keras.layers import Conv2D\n",
    "from keras.layers import Conv2D\n",
    "from keras.layers import MaxPooling2D\n",
    "from keras.layers import Flatten\n",
    "from keras.layers import Dense\n",
    "from keras import applications\n",
    "from keras.preprocessing.image import ImageDataGenerator \n",
    "from keras import optimizers\n",
    "from keras.models import Sequential,Model,load_model\n",
    "from keras.layers import Dropout,GlobalAveragePooling2D\n",
    "from keras.callbacks import TensorBoard,ReduceLROnPlateau,ModelCheckpoint\n",
    "import tensorflow as tf\n",
    "# file_list = []\n",
    "# class_list = []"
   ]
  },
  {
   "cell_type": "code",
   "execution_count": 90,
   "id": "f31a76c8",
   "metadata": {},
   "outputs": [],
   "source": [
    "base_dir = 'C:/Users/aish0/OneDrive/Documents/College study/IDMP/Project/Pattern recognition/data'\n",
    "\n",
    "train_dir = os.path.join(base_dir, 'train')\n",
    "test_dir = os.path.join(base_dir, 'test')\n",
    "\n",
    "list_of_patterns = ['solid', 'stripes', 'floral']\n",
    "train_dirs=[]\n",
    "test_dirs=[]\n",
    "train_filenames=[]"
   ]
  },
  {
   "cell_type": "code",
   "execution_count": 95,
   "id": "422d2bda",
   "metadata": {},
   "outputs": [],
   "source": [
    "# Directory with our training images\n",
    "for i in range(len(list_of_patterns)):\n",
    "    a = 'train_'+list_of_patterns[i]+'_dir' \n",
    "    train_dirs.append(a)\n",
    "    \n",
    "    b = \"test_\"+list_of_patterns[i]+'_dir' \n",
    "    test_dirs.append(b)\n",
    "    \n",
    "    c = 'train_'+list_of_patterns[i]+'_dir' \n",
    "    train_filenames.append(c)\n",
    "    \n",
    "for i in range(len(list_of_patterns)):\n",
    "    vars()[train_dirs[i]] = os.path.join(train_dir, list_of_patterns[i])\n",
    "#     vars()[test_dirs[i]] = os.path.join(test_dir, list_of_patterns[i]) "
   ]
  },
  {
   "cell_type": "code",
   "execution_count": 92,
   "id": "422061ce",
   "metadata": {},
   "outputs": [
    {
     "data": {
      "text/plain": [
       "'train_floral_dir'"
      ]
     },
     "execution_count": 92,
     "metadata": {},
     "output_type": "execute_result"
    }
   ],
   "source": [
    "a"
   ]
  },
  {
   "cell_type": "code",
   "execution_count": 96,
   "id": "8bb2456b",
   "metadata": {},
   "outputs": [
    {
     "name": "stdout",
     "output_type": "stream",
     "text": [
      "['full pants+men_s+solid+blue10.jpg', 'full pants+men_s+solid+blue12.jpg', 'full pants+men_s+solid+blue13.jpg', 'full pants+men_s+solid+blue15.jpg', 'full pants+men_s+solid+blue16.jpg', 'full pants+men_s+solid+blue18.jpg', 'full pants+men_s+solid+blue19.jpg', 'full pants+men_s+solid+blue2.jpg', 'full pants+men_s+solid+blue21.jpg', 'full pants+men_s+solid+blue22.jpg']\n",
      "['bw+shirts+stripes1.jpg', 'bw+shirts+stripes10.jpg', 'bw+shirts+stripes11.jpg', 'bw+shirts+stripes12.jpg', 'bw+shirts+stripes13.jpg', 'bw+shirts+stripes14.jpg', 'bw+shirts+stripes16.jpg', 'bw+shirts+stripes18.jpg', 'bw+shirts+stripes19.jpg', 'bw+shirts+stripes2.jpg']\n",
      "['.DS_Store', '02-a-black-tee-dark-floral-pants-and-black-lace-up-heels.jpg', '100074046_5K2_alt3_1920x2880-2.jpeg', '107c904dcc96f620ab91f506b38f14e9--fashion-today-floral-pants.jpg', '2015-Floral-Pants-For-Women-Street-Style-Trends-12.jpg', '2015-Floral-Pants-For-Women-Street-Style-Trends-14.jpg', '2015-Floral-Pants-For-Women-Street-Style-Trends-6.jpg', '450x786-floral-pants-london-street-style.jpg', '71D8ajKq9sL.jpg', 'a29b89f61a287fd5dde5efa268ca1955.jpg']\n"
     ]
    }
   ],
   "source": [
    "train_solid_fnames = os.listdir( train_solid_dir )\n",
    "train_stripes_fnames = os.listdir( train_stripes_dir )\n",
    "train_floral_fnames = os.listdir( train_floral_dir )\n",
    "\n",
    "\n",
    "print(train_solid_fnames[:10])\n",
    "print(train_stripes_fnames[:10])\n",
    "print(train_floral_fnames[:10])\n"
   ]
  },
  {
   "cell_type": "code",
   "execution_count": 43,
   "id": "4169ea42",
   "metadata": {},
   "outputs": [
    {
     "name": "stdout",
     "output_type": "stream",
     "text": [
      "total training stripes images : 1678\n",
      "total training floral images : 2001\n",
      "total training solid images : 1916\n"
     ]
    }
   ],
   "source": [
    "print('total training stripes images :', len(os.listdir(      train_stripes_dir ) ))\n",
    "print('total training floral images :', len(os.listdir(      train_floral_dir ) ))\n",
    "print('total training solid images :', len(os.listdir(      train_solid_dir ) ))\n",
    "\n",
    "# print('total test stripes images :', len(os.listdir( test_stripes_dir ) ))\n",
    "# print('total test floral images :', len(os.listdir( test_floral_dots_dir ) ))"
   ]
  },
  {
   "cell_type": "markdown",
   "id": "9c81c876",
   "metadata": {},
   "source": [
    "## CNN "
   ]
  },
  {
   "cell_type": "code",
   "execution_count": 48,
   "id": "1ec7a130",
   "metadata": {},
   "outputs": [],
   "source": [
    "# Define the model\n",
    "# Use no more than 2 Conv2D and 2 MaxPooling2D\n",
    "model = tf.keras.models.Sequential([\n",
    "    tf.keras.layers.Conv2D(16, (3,3), activation='relu', input_shape=(150, 150, 3)),\n",
    "    tf.keras.layers.MaxPooling2D(2, 2),\n",
    "    tf.keras.layers.Conv2D(32, (3,3), activation='relu'),\n",
    "    tf.keras.layers.MaxPooling2D(2,2),\n",
    "    tf.keras.layers.Conv2D(64, (3,3), activation='relu'),\n",
    "    tf.keras.layers.MaxPooling2D(2,2),\n",
    "    tf.keras.layers.Conv2D(128, (3,3), activation='relu'),\n",
    "    tf.keras.layers.MaxPooling2D(2,2),\n",
    "    tf.keras.layers.Flatten(),\n",
    "    tf.keras.layers.Dropout(0.5),\n",
    "    tf.keras.layers.Dense(512, activation='relu'),\n",
    "    tf.keras.layers.Dense(3, activation='softmax')]\n",
    "    )"
   ]
  },
  {
   "cell_type": "code",
   "execution_count": 49,
   "id": "705d39cc",
   "metadata": {},
   "outputs": [],
   "source": [
    "# Compile Model. \n",
    "model.compile(loss ='categorical_crossentropy', optimizer='adam', metrics=['accuracy'])\n"
   ]
  },
  {
   "cell_type": "markdown",
   "id": "2d7f0361",
   "metadata": {},
   "source": [
    "## Data Pre-processing"
   ]
  },
  {
   "cell_type": "code",
   "execution_count": 50,
   "id": "813827ff",
   "metadata": {},
   "outputs": [
    {
     "name": "stdout",
     "output_type": "stream",
     "text": [
      "Found 4476 images belonging to 3 classes.\n",
      "Found 1118 images belonging to 3 classes.\n"
     ]
    }
   ],
   "source": [
    "from tensorflow.keras.preprocessing.image import ImageDataGenerator\n",
    "\n",
    "# All images will be rescaled by 1./255.\n",
    "train_datagen = ImageDataGenerator(rescale = 1./255,\n",
    "      rotation_range=40,\n",
    "      width_shift_range=0.2,\n",
    "      height_shift_range=0.2,\n",
    "      shear_range=0.2,\n",
    "      zoom_range=0.2,\n",
    "      horizontal_flip=False,\n",
    "      fill_mode='nearest',\n",
    "      validation_split=0.2) \n",
    "\n",
    "# --------------------\n",
    "# Flow training images in batches of 20 using train_datagen generator\n",
    "# --------------------\n",
    "train_generator = train_datagen.flow_from_directory(train_dir,\n",
    "                                                    batch_size=20,\n",
    "                                                    target_size=(150, 150),\n",
    "                                                    subset='training')     \n",
    "# --------------------\n",
    "# Flow validation images in batches of 20 using test_datagen generator\n",
    "# --------------------\n",
    "validation_generator =  train_datagen.flow_from_directory(train_dir,\n",
    "                                                         batch_size=20,\n",
    "                                                         target_size = (150, 150),\n",
    "                                                         subset='validation')\n"
   ]
  },
  {
   "cell_type": "code",
   "execution_count": 81,
   "id": "79295815",
   "metadata": {},
   "outputs": [
    {
     "data": {
      "text/plain": [
       "array([0, 0, 0, ..., 2, 2, 2])"
      ]
     },
     "execution_count": 81,
     "metadata": {},
     "output_type": "execute_result"
    }
   ],
   "source": [
    "train_generator.labels"
   ]
  },
  {
   "cell_type": "code",
   "execution_count": 51,
   "id": "1c059ad1",
   "metadata": {
    "scrolled": true
   },
   "outputs": [
    {
     "name": "stdout",
     "output_type": "stream",
     "text": [
      "Epoch 1/50\n",
      "  3/224 [..............................] - ETA: 1:49 - loss: 1.9094 - accuracy: 0.2833"
     ]
    },
    {
     "name": "stderr",
     "output_type": "stream",
     "text": [
      "C:\\Users\\aish0\\anaconda3\\lib\\site-packages\\PIL\\Image.py:959: UserWarning: Palette images with Transparency expressed in bytes should be converted to RGBA images\n",
      "  warnings.warn(\n"
     ]
    },
    {
     "name": "stdout",
     "output_type": "stream",
     "text": [
      "224/224 [==============================] - 191s 850ms/step - loss: 1.0168 - accuracy: 0.4736 - val_loss: 0.8455 - val_accuracy: 0.5447\n",
      "Epoch 2/50\n",
      "224/224 [==============================] - 149s 667ms/step - loss: 0.8357 - accuracy: 0.5690 - val_loss: 0.8004 - val_accuracy: 0.5116\n",
      "Epoch 3/50\n",
      "224/224 [==============================] - 147s 657ms/step - loss: 0.8066 - accuracy: 0.5820 - val_loss: 0.7635 - val_accuracy: 0.5394\n",
      "Epoch 4/50\n",
      "224/224 [==============================] - 150s 670ms/step - loss: 0.7803 - accuracy: 0.6021 - val_loss: 0.7650 - val_accuracy: 0.5143\n",
      "Epoch 5/50\n",
      "224/224 [==============================] - 144s 641ms/step - loss: 0.7592 - accuracy: 0.6151 - val_loss: 0.8307 - val_accuracy: 0.5027\n",
      "Epoch 6/50\n",
      "224/224 [==============================] - 12013s 54s/step - loss: 0.7660 - accuracy: 0.6101 - val_loss: 0.7535 - val_accuracy: 0.5277\n",
      "Epoch 7/50\n",
      "224/224 [==============================] - 129s 574ms/step - loss: 0.7234 - accuracy: 0.6483 - val_loss: 0.7642 - val_accuracy: 0.5528\n",
      "Epoch 8/50\n",
      "224/224 [==============================] - 140s 625ms/step - loss: 0.7291 - accuracy: 0.6517 - val_loss: 0.7717 - val_accuracy: 0.6216\n",
      "Epoch 9/50\n",
      "224/224 [==============================] - 136s 608ms/step - loss: 0.6933 - accuracy: 0.6854 - val_loss: 0.7568 - val_accuracy: 0.5984\n",
      "Epoch 10/50\n",
      "224/224 [==============================] - 138s 615ms/step - loss: 0.6899 - accuracy: 0.6948 - val_loss: 0.7266 - val_accuracy: 0.6869\n",
      "Epoch 11/50\n",
      "224/224 [==============================] - 172s 769ms/step - loss: 0.6195 - accuracy: 0.7444 - val_loss: 0.6850 - val_accuracy: 0.6995\n",
      "Epoch 12/50\n",
      "224/224 [==============================] - 270s 1s/step - loss: 0.5965 - accuracy: 0.7560 - val_loss: 0.5216 - val_accuracy: 0.8211\n",
      "Epoch 13/50\n",
      "224/224 [==============================] - 272s 1s/step - loss: 0.5593 - accuracy: 0.7728 - val_loss: 0.5702 - val_accuracy: 0.7809\n",
      "Epoch 14/50\n",
      "224/224 [==============================] - 207s 922ms/step - loss: 0.5367 - accuracy: 0.7929 - val_loss: 0.9533 - val_accuracy: 0.6064\n",
      "Epoch 15/50\n",
      "224/224 [==============================] - 146s 653ms/step - loss: 0.5367 - accuracy: 0.7920 - val_loss: 0.4749 - val_accuracy: 0.8408\n",
      "Epoch 16/50\n",
      "224/224 [==============================] - 150s 671ms/step - loss: 0.5011 - accuracy: 0.8059 - val_loss: 0.5453 - val_accuracy: 0.8095\n",
      "Epoch 17/50\n",
      "224/224 [==============================] - 144s 642ms/step - loss: 0.4935 - accuracy: 0.8119 - val_loss: 0.4008 - val_accuracy: 0.8453\n",
      "Epoch 18/50\n",
      "224/224 [==============================] - 144s 641ms/step - loss: 0.4693 - accuracy: 0.8248 - val_loss: 0.3803 - val_accuracy: 0.8649\n",
      "Epoch 19/50\n",
      "224/224 [==============================] - 143s 640ms/step - loss: 0.4668 - accuracy: 0.8244 - val_loss: 0.3758 - val_accuracy: 0.8801\n",
      "Epoch 20/50\n",
      "224/224 [==============================] - 143s 639ms/step - loss: 0.4701 - accuracy: 0.8181 - val_loss: 0.4653 - val_accuracy: 0.8229\n",
      "Epoch 21/50\n",
      "224/224 [==============================] - 142s 636ms/step - loss: 0.4373 - accuracy: 0.8398 - val_loss: 0.3484 - val_accuracy: 0.8748\n",
      "Epoch 22/50\n",
      "224/224 [==============================] - 157s 703ms/step - loss: 0.4349 - accuracy: 0.8327 - val_loss: 0.4007 - val_accuracy: 0.8560\n",
      "Epoch 23/50\n",
      "224/224 [==============================] - 258s 1s/step - loss: 0.4270 - accuracy: 0.8485 - val_loss: 0.4143 - val_accuracy: 0.8596\n",
      "Epoch 24/50\n",
      "224/224 [==============================] - 279s 1s/step - loss: 0.4297 - accuracy: 0.8436 - val_loss: 0.4248 - val_accuracy: 0.8381\n",
      "Epoch 25/50\n",
      "224/224 [==============================] - 245s 1s/step - loss: 0.4144 - accuracy: 0.8483 - val_loss: 0.4382 - val_accuracy: 0.8202\n",
      "Epoch 26/50\n",
      "224/224 [==============================] - 277s 1s/step - loss: 0.4142 - accuracy: 0.8505 - val_loss: 0.3512 - val_accuracy: 0.8891\n",
      "Epoch 27/50\n",
      "224/224 [==============================] - 248s 1s/step - loss: 0.4013 - accuracy: 0.8537 - val_loss: 0.3367 - val_accuracy: 0.8927\n",
      "Epoch 28/50\n",
      "224/224 [==============================] - 272s 1s/step - loss: 0.4177 - accuracy: 0.8450 - val_loss: 0.4394 - val_accuracy: 0.8488\n",
      "Epoch 29/50\n",
      "224/224 [==============================] - 276s 1s/step - loss: 0.3970 - accuracy: 0.8557 - val_loss: 0.3220 - val_accuracy: 0.8980\n",
      "Epoch 30/50\n",
      "224/224 [==============================] - 242s 1s/step - loss: 0.4015 - accuracy: 0.8561 - val_loss: 0.3825 - val_accuracy: 0.8810\n",
      "Epoch 31/50\n",
      "224/224 [==============================] - 182s 815ms/step - loss: 0.3858 - accuracy: 0.8543 - val_loss: 0.3474 - val_accuracy: 0.8855\n",
      "Epoch 32/50\n",
      "224/224 [==============================] - 160s 714ms/step - loss: 0.3920 - accuracy: 0.8613 - val_loss: 0.3806 - val_accuracy: 0.8685\n",
      "Epoch 33/50\n",
      "224/224 [==============================] - 156s 697ms/step - loss: 0.3751 - accuracy: 0.8637 - val_loss: 0.5420 - val_accuracy: 0.7773\n",
      "Epoch 34/50\n",
      "224/224 [==============================] - 159s 710ms/step - loss: 0.3970 - accuracy: 0.8534 - val_loss: 0.3701 - val_accuracy: 0.8712\n",
      "Epoch 35/50\n",
      "224/224 [==============================] - 148s 659ms/step - loss: 0.3693 - accuracy: 0.8689 - val_loss: 0.3792 - val_accuracy: 0.8605\n",
      "Epoch 36/50\n",
      "224/224 [==============================] - 166s 742ms/step - loss: 0.3523 - accuracy: 0.8738 - val_loss: 0.3428 - val_accuracy: 0.8882\n",
      "Epoch 37/50\n",
      "224/224 [==============================] - 177s 789ms/step - loss: 0.3566 - accuracy: 0.8697 - val_loss: 0.4497 - val_accuracy: 0.8238\n",
      "Epoch 38/50\n",
      "224/224 [==============================] - 149s 665ms/step - loss: 0.3605 - accuracy: 0.8749 - val_loss: 0.3324 - val_accuracy: 0.8909\n",
      "Epoch 39/50\n",
      "224/224 [==============================] - 156s 698ms/step - loss: 0.3509 - accuracy: 0.8729 - val_loss: 0.3628 - val_accuracy: 0.8703\n",
      "Epoch 40/50\n",
      "224/224 [==============================] - 152s 677ms/step - loss: 0.3622 - accuracy: 0.8722 - val_loss: 0.3698 - val_accuracy: 0.8578\n",
      "Epoch 41/50\n",
      "224/224 [==============================] - 150s 669ms/step - loss: 0.3715 - accuracy: 0.8637 - val_loss: 0.3494 - val_accuracy: 0.8882\n",
      "Epoch 42/50\n",
      "224/224 [==============================] - 151s 671ms/step - loss: 0.3504 - accuracy: 0.8735 - val_loss: 0.3602 - val_accuracy: 0.8721\n",
      "Epoch 43/50\n",
      "224/224 [==============================] - 152s 678ms/step - loss: 0.3473 - accuracy: 0.8753 - val_loss: 0.3452 - val_accuracy: 0.8801\n",
      "Epoch 44/50\n",
      "224/224 [==============================] - 162s 725ms/step - loss: 0.3549 - accuracy: 0.8704 - val_loss: 0.4162 - val_accuracy: 0.8569\n",
      "Epoch 45/50\n",
      "224/224 [==============================] - 166s 740ms/step - loss: 0.3397 - accuracy: 0.8760 - val_loss: 0.3562 - val_accuracy: 0.8918\n",
      "Epoch 46/50\n",
      "224/224 [==============================] - 159s 709ms/step - loss: 0.3271 - accuracy: 0.8805 - val_loss: 0.3132 - val_accuracy: 0.9052\n",
      "Epoch 47/50\n",
      "224/224 [==============================] - 152s 677ms/step - loss: 0.3440 - accuracy: 0.8765 - val_loss: 0.3967 - val_accuracy: 0.8515\n",
      "Epoch 48/50\n",
      "224/224 [==============================] - 149s 664ms/step - loss: 0.3340 - accuracy: 0.8834 - val_loss: 0.3864 - val_accuracy: 0.8587\n",
      "Epoch 49/50\n",
      "224/224 [==============================] - 150s 668ms/step - loss: 0.3349 - accuracy: 0.8847 - val_loss: 0.3817 - val_accuracy: 0.8587\n",
      "Epoch 50/50\n",
      "224/224 [==============================] - 147s 655ms/step - loss: 0.3216 - accuracy: 0.8883 - val_loss: 0.3837 - val_accuracy: 0.8631\n"
     ]
    }
   ],
   "source": [
    "history = model.fit(train_generator,\n",
    "                    validation_data=validation_generator,\n",
    "                    epochs=50)"
   ]
  },
  {
   "cell_type": "code",
   "execution_count": 52,
   "id": "9552f68e",
   "metadata": {},
   "outputs": [
    {
     "name": "stderr",
     "output_type": "stream",
     "text": [
      "WARNING:absl:Found untraced functions such as _jit_compiled_convolution_op, _jit_compiled_convolution_op, _jit_compiled_convolution_op, _jit_compiled_convolution_op, _update_step_xla while saving (showing 5 of 5). These functions will not be directly callable after loading.\n"
     ]
    },
    {
     "name": "stdout",
     "output_type": "stream",
     "text": [
      "INFO:tensorflow:Assets written to: C:/Users/aish0/OneDrive/Documents/College study/IDMP/Project/Pattern recognition/PR_AK_50ep\\assets\n"
     ]
    },
    {
     "name": "stderr",
     "output_type": "stream",
     "text": [
      "INFO:tensorflow:Assets written to: C:/Users/aish0/OneDrive/Documents/College study/IDMP/Project/Pattern recognition/PR_AK_50ep\\assets\n"
     ]
    }
   ],
   "source": [
    "# Save the entire model as a SavedModel.\n",
    "\n",
    "model.save('C:/Users/aish0/OneDrive/Documents/College study/IDMP/Project/Pattern recognition/PR_AK_50ep') "
   ]
  },
  {
   "cell_type": "code",
   "execution_count": 53,
   "id": "d6055929",
   "metadata": {},
   "outputs": [
    {
     "data": {
      "text/plain": [
       "Text(0.5, 1.0, 'Training and validation loss')"
      ]
     },
     "execution_count": 53,
     "metadata": {},
     "output_type": "execute_result"
    },
    {
     "data": {
      "image/png": "[encoded data removed]",
      "text/plain": [
       "<Figure size 640x480 with 1 Axes>"
      ]
     },
     "metadata": {},
     "output_type": "display_data"
    },
    {
     "data": {
      "image/png": "[encoded data removed]",
      "text/plain": [
       "<Figure size 640x480 with 1 Axes>"
      ]
     },
     "metadata": {},
     "output_type": "display_data"
    }
   ],
   "source": [
    "#-----------------------------------------------------------\n",
    "# Retrieve a list of results on training and test data\n",
    "# sets for each training epoch\n",
    "#-----------------------------------------------------------\n",
    "acc      = history.history['accuracy']\n",
    "val_acc  = history.history['val_accuracy']\n",
    "loss     = history.history['loss']\n",
    "val_loss = history.history['val_loss']\n",
    "\n",
    "epochs   = range(len(acc)) # Get number of epochs\n",
    "\n",
    "#------------------------------------------------\n",
    "# Plot training and validation accuracy per epoch\n",
    "#------------------------------------------------\n",
    "plt.plot  ( epochs,     acc )\n",
    "plt.plot  ( epochs, val_acc )\n",
    "plt.title ('Training and validation accuracy')\n",
    "plt.figure()\n",
    "\n",
    "#------------------------------------------------\n",
    "# Plot training and validation loss per epoch\n",
    "#------------------------------------------------\n",
    "plt.plot  ( epochs,     loss )\n",
    "plt.plot  ( epochs, val_loss )\n",
    "plt.title ('Training and validation loss'   )\n",
    "plt."
   ]
  },
  {
   "cell_type": "code",
   "execution_count": 54,
   "id": "8659625e",
   "metadata": {},
   "outputs": [
    {
     "name": "stdout",
     "output_type": "stream",
     "text": [
      "Model: \"sequential_2\"\n",
      "_________________________________________________________________\n",
      " Layer (type)                Output Shape              Param #   \n",
      "=================================================================\n",
      " conv2d_8 (Conv2D)           (None, 148, 148, 16)      448       \n",
      "                                                                 \n",
      " max_pooling2d_8 (MaxPooling  (None, 74, 74, 16)       0         \n",
      " 2D)                                                             \n",
      "                                                                 \n",
      " conv2d_9 (Conv2D)           (None, 72, 72, 32)        4640      \n",
      "                                                                 \n",
      " max_pooling2d_9 (MaxPooling  (None, 36, 36, 32)       0         \n",
      " 2D)                                                             \n",
      "                                                                 \n",
      " conv2d_10 (Conv2D)          (None, 34, 34, 64)        18496     \n",
      "                                                                 \n",
      " max_pooling2d_10 (MaxPoolin  (None, 17, 17, 64)       0         \n",
      " g2D)                                                            \n",
      "                                                                 \n",
      " conv2d_11 (Conv2D)          (None, 15, 15, 128)       73856     \n",
      "                                                                 \n",
      " max_pooling2d_11 (MaxPoolin  (None, 7, 7, 128)        0         \n",
      " g2D)                                                            \n",
      "                                                                 \n",
      " flatten_2 (Flatten)         (None, 6272)              0         \n",
      "                                                                 \n",
      " dropout_2 (Dropout)         (None, 6272)              0         \n",
      "                                                                 \n",
      " dense_4 (Dense)             (None, 512)               3211776   \n",
      "                                                                 \n",
      " dense_5 (Dense)             (None, 3)                 1539      \n",
      "                                                                 \n",
      "=================================================================\n",
      "Total params: 3,310,755\n",
      "Trainable params: 3,310,755\n",
      "Non-trainable params: 0\n",
      "_________________________________________________________________\n"
     ]
    }
   ],
   "source": [
    "CNN_pattern = tf.keras.models.load_model('C:/Users/aish0/OneDrive/Documents/College study/IDMP/Project/Pattern recognition/PR_AK_50ep')\n",
    "\n",
    "# Check its architecture\n",
    "CNN_pattern.summary()"
   ]
  },
  {
   "cell_type": "code",
   "execution_count": 82,
   "id": "d8b1c74c",
   "metadata": {},
   "outputs": [],
   "source": [
    "from keras.models import model_from_json\n",
    "import numpy as np\n",
    "\n",
    "class Patterndetection(object):\n",
    "\n",
    "    patterns_list = ['floral', 'solid', 'stripes']\n",
    "\n",
    "    def __init__(self, model_path):\n",
    "        # load model \n",
    "        self.loaded_model= tf.keras.models.load_model(model_path)\n",
    "    \n",
    "        \n",
    "    def predict_pattern(self, img):\n",
    "        self.preds = self.loaded_model.predict(img)\n",
    "        return Patterndetection.patterns_list[np.argmax(self.preds)]"
   ]
  },
  {
   "cell_type": "code",
   "execution_count": 83,
   "id": "d41c3145",
   "metadata": {},
   "outputs": [],
   "source": [
    "model1= Patterndetection('C:/Users/aish0/OneDrive/Documents/College study/IDMP/Project/Pattern recognition/PR_AK_50ep')"
   ]
  },
  {
   "cell_type": "code",
   "execution_count": 84,
   "id": "061bb4f3",
   "metadata": {},
   "outputs": [],
   "source": [
    "def image_to_predict(imagepath):\n",
    "    img_array = cv2.imread(imagepath)\n",
    "    IMG_SIZE= 150\n",
    "    new_array = cv2.resize(img_array, (IMG_SIZE, IMG_SIZE))  # resize image to match model's expected sizing\n",
    "    a= new_array.reshape(-1, IMG_SIZE, IMG_SIZE, 3)  \n",
    "    return a"
   ]
  },
  {
   "cell_type": "code",
   "execution_count": 85,
   "id": "742a1443",
   "metadata": {},
   "outputs": [],
   "source": [
    "imagename = 'shirt+men+floral+pink84.jpg'"
   ]
  },
  {
   "cell_type": "code",
   "execution_count": 109,
   "id": "634cf604",
   "metadata": {},
   "outputs": [],
   "source": [
    "test_fnames = os.listdir(test_dir)"
   ]
  },
  {
   "cell_type": "code",
   "execution_count": 112,
   "id": "f88423c8",
   "metadata": {},
   "outputs": [
    {
     "name": "stdout",
     "output_type": "stream",
     "text": [
      "1/1 [==============================] - 0s 21ms/step\n",
      "stripes\n",
      "1/1 [==============================] - 0s 18ms/step\n",
      "solid\n",
      "1/1 [==============================] - 0s 27ms/step\n",
      "solid\n",
      "1/1 [==============================] - 0s 22ms/step\n",
      "stripes\n",
      "1/1 [==============================] - 0s 16ms/step\n",
      "stripes\n",
      "1/1 [==============================] - 0s 17ms/step\n",
      "stripes\n",
      "1/1 [==============================] - 0s 29ms/step\n",
      "stripes\n",
      "1/1 [==============================] - 0s 16ms/step\n",
      "floral\n",
      "1/1 [==============================] - 0s 17ms/step\n",
      "floral\n",
      "1/1 [==============================] - 0s 18ms/step\n",
      "floral\n",
      "1/1 [==============================] - 0s 16ms/step\n",
      "floral\n",
      "1/1 [==============================] - 0s 17ms/step\n",
      "floral\n",
      "1/1 [==============================] - 0s 18ms/step\n",
      "floral\n",
      "1/1 [==============================] - 0s 19ms/step\n",
      "floral\n",
      "1/1 [==============================] - 0s 25ms/step\n",
      "floral\n",
      "1/1 [==============================] - 0s 18ms/step\n",
      "floral\n",
      "1/1 [==============================] - 0s 32ms/step\n",
      "stripes\n",
      "1/1 [==============================] - 0s 21ms/step\n",
      "stripes\n",
      "1/1 [==============================] - 0s 17ms/step\n",
      "stripes\n"
     ]
    }
   ],
   "source": [
    "preds0=[]\n",
    "for iname in test_fnames:\n",
    "    imagepath = base_dir+'/test/'+ iname\n",
    "    pred = model1.predict_pattern(image_to_predict(imagepath))\n",
    "    print(pred)\n",
    "    preds0.append(pred)\n",
    "#     print(preds0)\n",
    "    "
   ]
  },
  {
   "cell_type": "code",
   "execution_count": 113,
   "id": "b00f2b97",
   "metadata": {},
   "outputs": [
    {
     "data": {
      "text/plain": [
       "['stripes',\n",
       " 'solid',\n",
       " 'solid',\n",
       " 'stripes',\n",
       " 'stripes',\n",
       " 'stripes',\n",
       " 'stripes',\n",
       " 'floral',\n",
       " 'floral',\n",
       " 'floral',\n",
       " 'floral',\n",
       " 'floral',\n",
       " 'floral',\n",
       " 'floral',\n",
       " 'floral',\n",
       " 'floral',\n",
       " 'stripes',\n",
       " 'stripes',\n",
       " 'stripes']"
      ]
     },
     "execution_count": 113,
     "metadata": {},
     "output_type": "execute_result"
    }
   ],
   "source": [
    "preds0"
   ]
  },
  {
   "cell_type": "code",
   "execution_count": 99,
   "id": "4ed1efea",
   "metadata": {},
   "outputs": [
    {
     "name": "stdout",
     "output_type": "stream",
     "text": [
      "['bw+shirts+stripes20.jpg', 'full pants+men_s+solid+blue36.jpg', 'full pants+men_s+solid+light44.jpg', 'full pants+men_s+stripes30.jpg', 'full pants+women_s+stripes+blue1.jpg', 'full pants+women_s+stripes+green11.jpg', 'mens+shirts+in+stripes2.jpg', 'pant+men+floral+black57.jpg', 'pant+men+floral+color75.jpg', 'pants+wn+floral22.jpg', 'pants+wn80s+floral23.jpg', 'shirt+men+floral+brown112.jpg', 'shirt+men+floral+cyan34.jpg', 'shirt+men+floral+pink42.jpg', 'shirt+men+floral+pink84.jpg', 'shirt+men+floral+purple16.jpg', 'shirts+solidcolor+brown15.jpg', 'shirts+solidcolor+fuschia1.jpg', 'shirts+solidcolor+fuschia19.jpg']\n"
     ]
    }
   ],
   "source": [
    "print(test_fnames)"
   ]
  }
 ],
 "metadata": {
  "kernelspec": {
   "display_name": "Python 3 (ipykernel)",
   "language": "python",
   "name": "python3"
  },
  "language_info": {
   "codemirror_mode": {
    "name": "ipython",
    "version": 3
   },
   "file_extension": ".py",
   "mimetype": "text/x-python",
   "name": "python",
   "nbconvert_exporter": "python",
   "pygments_lexer": "ipython3",
   "version": "3.9.13"
  }
 },
 "nbformat": 4,
 "nbformat_minor": 5
}
